{
 "cells": [
  {
   "cell_type": "markdown",
   "id": "8ff22249-61de-4309-8096-85773e36ee7c",
   "metadata": {},
   "source": [
    "# Resample ZARR datasets\n",
    "This notebook gives a demonstration of how to resample zarr datasets.\n",
    "## TOC:\n",
    "* [1. Import packages](#1)\n",
    "* [2. Settings](#2)\n",
    "* [3. Resample on the fly](#3)\n",
    "* [4. Resample using batches](#4)"
   ]
  },
  {
   "cell_type": "markdown",
   "id": "18047ca3-59af-4503-a9e7-fdc3ed1d0e40",
   "metadata": {},
   "source": [
    "#### Import resampling"
   ]
  },
  {
   "cell_type": "markdown",
   "id": "b915a571-11d1-4713-9b8e-25abf038dc1d",
   "metadata": {},
   "source": [
    "## 1. Import packages <a class=\"anchor\" id=\"1\"></a>\n",
    "#### Import standard packages"
   ]
  },
  {
   "cell_type": "code",
   "execution_count": 1,
   "id": "1b555003-5b82-4eaf-9eb8-bbe38680b4c6",
   "metadata": {},
   "outputs": [],
   "source": [
    "import os\n",
    "import sys\n",
    "import os.path\n",
    "import xarray as xr\n",
    "import pandas as pd\n",
    "from pathlib import Path"
   ]
  },
  {
   "cell_type": "markdown",
   "id": "d1ebdd33-b7af-48f8-a13e-6bc41a104b8d",
   "metadata": {},
   "source": [
    "#### Import Resampling modules\n",
    "Before running this code, make sure your S3 credentials are stored in the config.toml. "
   ]
  },
  {
   "cell_type": "code",
   "execution_count": 2,
   "id": "d1320fd9-462d-4175-a39c-e01a3577a083",
   "metadata": {},
   "outputs": [],
   "source": [
    "sys.path.append(os.path.abspath(os.path.join(os.getcwd(), '..')))\n",
    "import resampling"
   ]
  },
  {
   "cell_type": "code",
   "execution_count": 3,
   "id": "cd63591b-9073-416f-abc4-85144508d8bd",
   "metadata": {},
   "outputs": [],
   "source": [
    "from resampling.plot_logs import plot_logs\n",
    "from resampling.plot_zarr import plot_dataset\n",
    "from resampling.my_store import store_from_config\n",
    "from resampling.down_scale import down_scale_in_batches\n",
    "from resampling.down_scale import down_scale_on_the_fly"
   ]
  },
  {
   "cell_type": "markdown",
   "id": "ee26a886-f0cd-4251-8bcc-f50a01417ec5",
   "metadata": {},
   "source": [
    "## 2. Settings <a class=\"anchor\" id=\"2\"></a>\n",
    "#### Initiate ObjectStore\n",
    "Using get_my_store.get_my_store, we can initiate an instance of ObjectStore. The ObjectStore class will handle all IO to our S3 storage. ObjectStore can be initiated directly providing credentials, or get_my_store can be used, which imports the credentials from config/config.toml. <br><br>\n",
    "**Notice not to expose your credentials!** <br>The credentials used and displayed in this tutorial are only valid for 24h and thus cause no security leak."
   ]
  },
  {
   "cell_type": "code",
   "execution_count": 4,
   "id": "ca84b31a-4537-4389-9b50-37cf551e9751",
   "metadata": {},
   "outputs": [],
   "source": [
    "my_store = store_from_config(\"config.toml\")"
   ]
  },
  {
   "cell_type": "markdown",
   "id": "ab08c1fd-80a5-454e-a0db-e3f194d73069",
   "metadata": {},
   "source": [
    "#### Target resolution <a class=\"anchor\" id=\"2.0\"></a>\n",
    "Define the dimesion, ranges and resolution (step) to which the dataset should be resampled. <br>\n",
    "Note that dimensions that are in the dataset but that are not mentioned in resampler will be maintained to the original resolution."
   ]
  },
  {
   "cell_type": "code",
   "execution_count": 5,
   "id": "33d6233c-cb0a-474c-8ba3-9aa38534e1d4",
   "metadata": {},
   "outputs": [],
   "source": [
    "resampler = [\n",
    "    {\"dimension\": \"latitude\",\n",
    "     \"range\": (30, 70),\n",
    "     \"step\": 0.5,\n",
    "     \"invert\": True\n",
    "     },\n",
    "    {\"dimension\": \"longitude\",\n",
    "     \"range\": (-10, 40),\n",
    "     \"step\": 0.5\n",
    "     },\n",
    "]"
   ]
  },
  {
   "cell_type": "markdown",
   "id": "57835466-b81b-4859-939c-13d583b4e44c",
   "metadata": {},
   "source": [
    "## 3. Resample on the fly <a class=\"anchor\" id=\"3\"></a>\n",
    "If a dataset is manageable to be read in momory without consuming to much RAM, it can be resampled in on the fly.\n",
    "#### Define target dataset"
   ]
  },
  {
   "cell_type": "code",
   "execution_count": 6,
   "id": "25a2c555-7736-41b3-863f-2c0de75b7b95",
   "metadata": {},
   "outputs": [],
   "source": [
    "url = \"https://s3.waw3-1.cloudferro.com/emodnet/emodnet_arco/bio_oracle/sea_water_temperature/sea_water_temperature_bio_oracle_baseline_2000_2019/climatologydecadedepthsurf.zarr\"\n",
    "var = \"average_sea_water_temperature_biooracle_baseline\""
   ]
  },
  {
   "cell_type": "markdown",
   "id": "3478767d-c3b5-4044-a4bd-b10fd33467ae",
   "metadata": {},
   "source": [
    "Open the dataset with xarray"
   ]
  },
  {
   "cell_type": "code",
   "execution_count": 7,
   "id": "818f23a0-4994-484f-9e11-575dc0b84ee1",
   "metadata": {},
   "outputs": [
    {
     "name": "stdout",
     "output_type": "stream",
     "text": [
      "<xarray.Dataset> Size: 415MB\n",
      "Dimensions:                                           (time: 2, latitude: 3600,\n",
      "                                                       longitude: 7200)\n",
      "Coordinates:\n",
      "  * latitude                                          (latitude) float32 14kB ...\n",
      "  * longitude                                         (longitude) float32 29kB ...\n",
      "  * time                                              (time) datetime64[ns] 16B ...\n",
      "Data variables:\n",
      "    average_sea_water_temperature_biooracle_baseline  (time, latitude, longitude) float64 415MB dask.array<chunksize=(1, 2894, 5795), meta=np.ndarray>\n",
      "Attributes: (12/13)\n",
      "    Conventions:          CF-1.5\n",
      "    comment:              Uses attributes recommended by http://cfconventions...\n",
      "    experiment:           Baseline\n",
      "    geographical_extent:  [-89, -179, 89, 179]\n",
      "    history:              File created: 2021-12-15 00:34:56\n",
      "    institution:          Bio-Oracle consortium: https://www.bio-oracle.org\n",
      "    ...                   ...\n",
      "    proj:epsg:            4326\n",
      "    references:           https://www.bio-oracle.org\n",
      "    source:               Bio-Oracle version V3.0\n",
      "    sources:              Bio-Oracle\n",
      "    standard_name:        sea_water_temperature\n",
      "    title:                Bio-Oracle OceanTemperature [depthSurf].\n"
     ]
    }
   ],
   "source": [
    "ds = xr.open_zarr(url)\n",
    "print(ds)"
   ]
  },
  {
   "cell_type": "markdown",
   "id": "1cd89914-b3a5-4dbb-ac91-4601934da25d",
   "metadata": {},
   "source": [
    "#### Rescale dataset\n",
    "Rescale the xarray dataset according the information from the resampler."
   ]
  },
  {
   "cell_type": "code",
   "execution_count": 8,
   "id": "e0ebabec-4c81-4cdd-af66-ee98b1da6b97",
   "metadata": {},
   "outputs": [],
   "source": [
    "ds_downscaled = down_scale_on_the_fly(\n",
    "    ds=ds,\n",
    "    resampler=resampler\n",
    ")"
   ]
  },
  {
   "cell_type": "code",
   "execution_count": 9,
   "id": "9b455435-9596-4853-947e-6adea54cdaf7",
   "metadata": {},
   "outputs": [
    {
     "name": "stdout",
     "output_type": "stream",
     "text": [
      "<xarray.Dataset> Size: 129kB\n",
      "Dimensions:                                           (time: 2, latitude: 80,\n",
      "                                                       longitude: 100)\n",
      "Coordinates:\n",
      "  * time                                              (time) datetime64[ns] 16B ...\n",
      "  * latitude                                          (latitude) float64 640B ...\n",
      "  * longitude                                         (longitude) float64 800B ...\n",
      "Data variables:\n",
      "    average_sea_water_temperature_biooracle_baseline  (time, latitude, longitude) float64 128kB dask.array<chunksize=(1, 80, 100), meta=np.ndarray>\n",
      "Attributes: (12/13)\n",
      "    Conventions:          CF-1.5\n",
      "    comment:              Uses attributes recommended by http://cfconventions...\n",
      "    experiment:           Baseline\n",
      "    geographical_extent:  [-89, -179, 89, 179]\n",
      "    history:              File created: 2021-12-15 00:34:56\n",
      "    institution:          Bio-Oracle consortium: https://www.bio-oracle.org\n",
      "    ...                   ...\n",
      "    proj:epsg:            4326\n",
      "    references:           https://www.bio-oracle.org\n",
      "    source:               Bio-Oracle version V3.0\n",
      "    sources:              Bio-Oracle\n",
      "    standard_name:        sea_water_temperature\n",
      "    title:                Bio-Oracle OceanTemperature [depthSurf].\n"
     ]
    }
   ],
   "source": [
    "print(ds_downscaled)"
   ]
  },
  {
   "cell_type": "markdown",
   "id": "b87d10cb-e5e8-4819-a007-62faf7770174",
   "metadata": {},
   "source": [
    "Save the result to a new zarr. "
   ]
  },
  {
   "cell_type": "code",
   "execution_count": 10,
   "id": "52ff310c-d8c9-4321-9511-7d7046a97f6e",
   "metadata": {},
   "outputs": [],
   "source": [
    "ds_name = \"tutorial/resampled_SST_baseline\"\n",
    "my_store.write_zarr(dataset=ds_downscaled, name=f\"{ds_name}.zarr\")"
   ]
  },
  {
   "cell_type": "markdown",
   "id": "ed77257e-b7d3-4afa-ba5a-317eb86a3c7c",
   "metadata": {},
   "source": [
    "## 4. Resample using batches <a class=\"anchor\" id=\"4\"></a>\n",
    "When reading datasets that consume more RAM then you have available, it is not feasible to process them in memory. Instead, the dataset will be devided in batches (each containing #x windows) and each window will be processed seperate. \n",
    "### Define target dataset "
   ]
  },
  {
   "cell_type": "code",
   "execution_count": 11,
   "id": "cdded3b4-280f-47bb-a769-c2b1c5c62569",
   "metadata": {},
   "outputs": [],
   "source": [
    "url = (\"https://s3.waw3-1.cloudferro.com/emodnet/bathymetry/bathymetry_2022.zarr\")\n",
    "var = [\"elevation\"]"
   ]
  },
  {
   "cell_type": "markdown",
   "id": "2a5931a1-15ca-40ba-80d4-61bffa31babb",
   "metadata": {},
   "source": [
    "Open the dataset with xarray, notice that this ds consumes 66GB."
   ]
  },
  {
   "cell_type": "code",
   "execution_count": 12,
   "id": "368c4de7-0868-4dce-a5d9-30c2e5e4310f",
   "metadata": {},
   "outputs": [
    {
     "name": "stdout",
     "output_type": "stream",
     "text": [
      "<xarray.Dataset> Size: 66GB\n",
      "Dimensions:        (latitude: 72000, longitude: 75840)\n",
      "Coordinates:\n",
      "  * latitude       (latitude) float64 576kB 15.0 15.0 15.0 ... 90.0 90.0 90.0\n",
      "  * longitude      (longitude) float64 607kB -36.0 -36.0 -36.0 ... 43.0 43.0\n",
      "Data variables:\n",
      "    elevation      (latitude, longitude) float32 22GB dask.array<chunksize=(1125, 1185), meta=np.ndarray>\n",
      "    elevation_max  (latitude, longitude) float32 22GB dask.array<chunksize=(1125, 1185), meta=np.ndarray>\n",
      "    elevation_min  (latitude, longitude) float32 22GB dask.array<chunksize=(1125, 1185), meta=np.ndarray>\n",
      "Attributes: (12/26)\n",
      "    Conventions:                SeaDataNet_1.0 CF1.6\n",
      "    EMODnet_Record_Identifier:  ff3aff8a-cff1-44a3-a2c8-1910bf109f85\n",
      "    GetRecordByIdResponse:      \\n  \n",
      "    Record:                     \\n    \n",
      "    comment:                    The data in the EMODnet Grid should not be us...\n",
      "    data_rights_constraints:    DO NOT USE FOR NAVIGATION\n",
      "    ...                         ...\n",
      "    sci:doi:                    10.12770/ff3aff8a-cff1-44a3-a2c8-1910bf109f85\n",
      "    source:                     The DTM is a grid of 1/16 * 1/16 arc minute o...\n",
      "    subject:                    ['/Physical Environment/Bathymetry/Digital Te...\n",
      "    temporal_extent:            {'end': '2022-07-11T00:00:00', 'start': '1816...\n",
      "    title:                      EMODnet Digital Bathymetry (DTM 2022)\n",
      "    type:                       dataset\n"
     ]
    }
   ],
   "source": [
    "ds = xr.open_zarr(url)\n",
    "print(ds)"
   ]
  },
  {
   "cell_type": "markdown",
   "id": "89468f89-55de-4d3a-9438-0aa0dd971f44",
   "metadata": {},
   "source": [
    "Additional settings to regulate the window processing:\n",
    "- workers: number of windows that will be processed in parallel. Each window will start a thread. Notice that the total number of thread will be larger than number of workers due to a number of background threads (especially since zarr is using Dask which will also open several threads).\n",
    "- batch_size: number of windows to be processed before writing the results to the zarr. Small batch size will slow down the process because of the increasing amount of write operations. Large batch sizes could cause RAM errors.\n",
    "#### Batch processing settings"
   ]
  },
  {
   "cell_type": "code",
   "execution_count": 13,
   "id": "3131221f-9bd8-4929-9b8d-67e9130bac79",
   "metadata": {},
   "outputs": [],
   "source": [
    "params = {\"resampler\": resampler,\n",
    "          \"workers\": 50,\n",
    "          \"batch_size\": 500\n",
    "         }"
   ]
  },
  {
   "cell_type": "markdown",
   "id": "40508da5-e128-42f8-8d98-80209e3f313e",
   "metadata": {},
   "source": [
    "#### Process dataset\n",
    "Attention! This step will take some time.<br>\n",
    "You can track progress in the log_events.log. It keeps track of the number of batches that have been processed / to be processed."
   ]
  },
  {
   "cell_type": "code",
   "execution_count": 14,
   "id": "1f10e76f-9ff9-4dd1-b038-c4d61edef2aa",
   "metadata": {
    "scrolled": true
   },
   "outputs": [
    {
     "name": "stderr",
     "output_type": "stream",
     "text": [
      "C:\\Users\\willem.boone\\Documents\\github_maintenance\\resample_zarr\\resampling\\_define_windows.py:134: FutureWarning: The return type of `Dataset.dims` will be changed to return a set of dimension names in future, in order to be more consistent with `DataArray.dims`. To access a mapping from dimension names to lengths, please use `Dataset.sizes`.\n",
      "  for dim in ds.dims.keys():\n"
     ]
    },
    {
     "name": "stdout",
     "output_type": "stream",
     "text": [
      ">> Working on VAR elevation - batch 1/16:windows [0-500]/8000\n",
      ">> Working on VAR elevation - batch 2/16:windows [500-1000]/8000\n",
      ">> Working on VAR elevation - batch 3/16:windows [1000-1500]/8000\n",
      ">> Working on VAR elevation - batch 4/16:windows [1500-2000]/8000\n",
      ">> Working on VAR elevation - batch 5/16:windows [2000-2500]/8000\n",
      ">> Working on VAR elevation - batch 6/16:windows [2500-3000]/8000\n",
      ">> Working on VAR elevation - batch 7/16:windows [3000-3500]/8000\n",
      ">> Working on VAR elevation - batch 8/16:windows [3500-4000]/8000\n",
      ">> Working on VAR elevation - batch 9/16:windows [4000-4500]/8000\n",
      ">> Working on VAR elevation - batch 10/16:windows [4500-5000]/8000\n",
      ">> Working on VAR elevation - batch 11/16:windows [5000-5500]/8000\n",
      ">> Working on VAR elevation - batch 12/16:windows [5500-6000]/8000\n",
      ">> Working on VAR elevation - batch 13/16:windows [6000-6500]/8000\n",
      ">> Working on VAR elevation - batch 14/16:windows [6500-7000]/8000\n",
      ">> Working on VAR elevation - batch 15/16:windows [7000-7500]/8000\n",
      ">> Working on VAR elevation - batch 16/16:windows [7500-8000]/8000\n"
     ]
    }
   ],
   "source": [
    "dest_zarr = \"tutorial/resampled_bathymetry.zarr\"\n",
    "down_scale_in_batches(\n",
    "    my_store=my_store,\n",
    "    ds=ds,\n",
    "    dest_zarr=dest_zarr,\n",
    "    variables=var,\n",
    "    **params)"
   ]
  },
  {
   "cell_type": "markdown",
   "id": "f3178526-3dc0-4c19-a513-b650c88d72e1",
   "metadata": {},
   "source": [
    "#### Inspect logs\n",
    "In case your program crashes, you can plot the logs and inspect resource consumption in order to provide better settings for a retry."
   ]
  },
  {
   "cell_type": "code",
   "execution_count": 17,
   "id": "1876272e-4c1d-4b9a-9b0f-65feb9721d50",
   "metadata": {},
   "outputs": [
    {
     "data": {
      "image/png": "[encoded data removed]",
      "text/plain": [
       "<Figure size 1200x600 with 2 Axes>"
      ]
     },
     "metadata": {},
     "output_type": "display_data"
    }
   ],
   "source": [
    "plot_logs(show=True)"
   ]
  },
  {
   "cell_type": "code",
   "execution_count": null,
   "id": "214ed22e-9655-49e7-a080-ec5aa5e1353b",
   "metadata": {},
   "outputs": [],
   "source": []
  }
 ],
 "metadata": {
  "kernelspec": {
   "display_name": "Python 3 (ipykernel)",
   "language": "python",
   "name": "python3"
  },
  "language_info": {
   "codemirror_mode": {
    "name": "ipython",
    "version": 3
   },
   "file_extension": ".py",
   "mimetype": "text/x-python",
   "name": "python",
   "nbconvert_exporter": "python",
   "pygments_lexer": "ipython3",
   "version": "3.12.1"
  }
 },
 "nbformat": 4,
 "nbformat_minor": 5
}
